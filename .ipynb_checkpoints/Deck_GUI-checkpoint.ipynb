{
 "cells": [
  {
   "cell_type": "code",
   "execution_count": null,
   "metadata": {
    "scrolled": false
   },
   "outputs": [],
   "source": [
    "import PySimpleGUI as sg\n",
    "import subprocess\n",
    "from pathlib import Path\n",
    "\n",
    "py_file = \"Master_Script_v3.py\"\n",
    "gif_file= \"monkey.gif\"\n",
    "\n",
    "layout = [[sg.Text('Pre-run Checklist:')],\n",
    "          [sg.Text('1) Update dates in Control wkbk')],\n",
    "          [sg.Text('2) Update Hyundai (+Genesis for IR) Explorer paste-in')], \n",
    "          [sg.Text('Path to PIN_Automation Folder:')],\n",
    "          [sg.Listbox(values=('C:/Users/jimmy.gov/Desktop/PIN_Automation', 'C:/Users/bryant.vu/Documents/PIN_Automation'), size=(80, 5))],\n",
    "          [sg.Text('Choose Report')],\n",
    "          [sg.Listbox(values=('Industry_Review_(all)', 'Kia_IP', 'Hyundai_IP', 'Mitsu_IP', 'IP_Decks_(all)', 'Acura_IR', 'Honda_IR', 'Hyundai_IR', 'Kia_IR', 'Mazda_IR','Mitsu_IR', 'Nissan_IR', 'Infiniti_IR'), size=(40, 5))],\n",
    "          [sg.Text('[Required] Enter report date (YYYYMM):'), sg.InputText()],\n",
    "          [sg.Text('Refresh Cube?'), sg.Combo(['Yes', 'No'], default_value = 'No')],\n",
    "          [sg.Text('Month-end or MTD?'), sg.Combo(['Month-end', 'MTD'], default_value = 'MTD')],\n",
    "          [sg.Text('[MTD] Enter share data through (YYYY.MM.DD):'), sg.InputText()],\n",
    "          [sg.Text('[MTD] Enter spend data through (YYYY.MM.DD):'), sg.InputText()],\n",
    "          [sg.Text('[MTD] Enter month-end forecast (no commas):'), sg.InputText()],\n",
    "          [sg.OK(), sg.Cancel()]]\n",
    "\n",
    "window = sg.Window('Create Decks', layout)\n",
    "\n",
    "while True:\n",
    "    event, values = window.Read()\n",
    "    inputs_list = ['folder_path', 'report_name', 'report_date', 'refresh_cube', 'monthend_or_MTD', 'share_date', 'spend_date', 'forecast']\n",
    "    inputs_dict = {}\n",
    "    for i, input in enumerate(inputs_list):\n",
    "        if i == 0:\n",
    "            inputs_dict[input] = values[i][i]\n",
    "        elif values[i] == '':\n",
    "            inputs_dict[input] = \"0\"\n",
    "        else:\n",
    "            inputs_dict[input] = values[i]\n",
    "    if event is None or event == 'Exit' or event == 'Cancel':\n",
    "        break\n",
    "    else:\n",
    "        py_file_path = Path(inputs_dict['folder_path']) / \".py Files\" / py_file\n",
    "        gif_file_path = Path(inputs_dict['folder_path']) / \".gif Files\" / gif_file\n",
    "        sg.PopupAnimated(str(gif_file_path), message='Just a sec...', background_color='#FFF', font=(\"Helvetica\",18), keep_on_top=True, time_between_frames=100, location=(0,0))     \n",
    "        \n",
    "        subprocess.call(['python', str(py_file_path), inputs_dict['folder_path'], inputs_dict['report_name'], inputs_dict['report_date'], inputs_dict['refresh_cube'], inputs_dict['monthend_or_MTD'], inputs_dict['share_date'], inputs_dict['spend_date'], inputs_dict['forecast']], shell=True)\n",
    "        sg.PopupAnimated(image_source=None)\n",
    "        sg.Popup(\"Complete.\\nPlease go to PIN_Automation -> Output\", keep_on_top=True)\n",
    "window.Close()"
   ]
  }
 ],
 "metadata": {
  "kernelspec": {
   "display_name": "Python 3",
   "language": "python",
   "name": "python3"
  },
  "language_info": {
   "codemirror_mode": {
    "name": "ipython",
    "version": 3
   },
   "file_extension": ".py",
   "mimetype": "text/x-python",
   "name": "python",
   "nbconvert_exporter": "python",
   "pygments_lexer": "ipython3",
   "version": "3.7.7"
  }
 },
 "nbformat": 4,
 "nbformat_minor": 2
}
