{
 "cells": [
  {
   "cell_type": "code",
   "execution_count": null,
   "metadata": {
    "scrolled": true
   },
   "outputs": [],
   "source": [
    "import PySimpleGUI as sg\n",
    "import subprocess\n",
    "from pathlib import Path\n",
    "\n",
    "py_file = \"std_slides_script.py\"\n",
    "gif_file= \"monkey.gif\"\n",
    "\n",
    "layout = [[sg.Text('Path to Standard Slides Folder:')],\n",
    "          [sg.Listbox(values=('C:/GitHub/Standard_Slides', 'C:/Users/ethan.redrup/Documents/Standard_Slides', 'C:/Users/kristen.richter/Documents/Standard_Slides', 'C:/Users/michael.polakowski/Documents/Standard_Slides', 'C:/Users/bryant.vu/Documents/Standard_Slides'), size=(80, 5))],\n",
    "          [sg.Text('Choose Report')],\n",
    "          [sg.Listbox(values=(['Fleet Mix Tool']), size=(40, 5))],\n",
    "          [sg.Text('[Required] Enter report date (YYYYMM):'), sg.InputText()],\n",
    "          [sg.Text('Refresh Cube?'), sg.Combo(['Yes', 'No'], default_value = 'No')],\n",
    "          [sg.OK(), sg.Cancel()]]\n",
    "\n",
    "window = sg.Window('Create Decks', layout)\n",
    "\n",
    "while True:\n",
    "    event, values = window.Read()\n",
    "    inputs_list = ['folder_path', 'report_name', 'report_date', 'refresh_cube']\n",
    "    inputs_dict = {}\n",
    "\n",
    "    for i, input in enumerate(inputs_list):\n",
    "        if i == 0 or i == 1:\n",
    "            inputs_dict[input] = values[i][0]\n",
    "        elif values[i] == '':\n",
    "            inputs_dict[input] = \"0\"\n",
    "        else:\n",
    "            inputs_dict[input] = values[i]\n",
    "    if event is None or event == 'Exit' or event == 'Cancel':\n",
    "        break\n",
    "    else:\n",
    "        py_file_path = Path(inputs_dict['folder_path']) / \".py Files\" / py_file\n",
    "        gif_file_path = Path(inputs_dict['folder_path']) / \".gif Files\" / gif_file  \n",
    "        sg.PopupAnimated(str(gif_file_path), message='Just a sec...', background_color='#FFF', font=(\"Helvetica\",18), keep_on_top=True, time_between_frames=100, location=(0,0))\n",
    "        \n",
    "        subprocess.call(['python', str(py_file_path), inputs_dict['folder_path'], inputs_dict['report_name'], inputs_dict['report_date'], inputs_dict['refresh_cube']], shell=True)\n",
    "        sg.PopupAnimated(image_source=None)\n",
    "        sg.Popup(\"Complete\", keep_on_top=True)\n",
    "window.Close()"
   ]
  },
  {
   "cell_type": "code",
   "execution_count": null,
   "metadata": {},
   "outputs": [],
   "source": []
  }
 ],
 "metadata": {
  "kernelspec": {
   "display_name": "Python 3",
   "language": "python",
   "name": "python3"
  },
  "language_info": {
   "codemirror_mode": {
    "name": "ipython",
    "version": 3
   },
   "file_extension": ".py",
   "mimetype": "text/x-python",
   "name": "python",
   "nbconvert_exporter": "python",
   "pygments_lexer": "ipython3",
   "version": "3.7.9"
  }
 },
 "nbformat": 4,
 "nbformat_minor": 2
}
