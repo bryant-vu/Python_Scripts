{
 "cells": [
  {
   "cell_type": "code",
   "execution_count": 53,
   "metadata": {},
   "outputs": [],
   "source": [
    "if __name__ == '__main__':\n",
    "    import os, os.path\n",
    "    import win32com.client\n",
    "    import time\n",
    "    import sys\n",
    "    import pandas as pd\n",
    "    import numpy\n",
    "    from pathlib import Path\n",
    "\n",
    "    # Inputs from GUI\n",
    "    try:\n",
    "        folder_path = Path(sys.argv[1])\n",
    "        report_date = sys.argv[3]\n",
    "        refresh_cube = sys.argv[4]\n",
    "    except:\n",
    "        None\n",
    "    \n",
    "    # Function to open workbooks\n",
    "    def openWorkbook(fileLocation):\n",
    "        if os.path.exists(fileLocation):\n",
    "            global xl, wb\n",
    "            xl=win32com.client.Dispatch(\"Excel.Application\")\n",
    "            wb = xl.Workbooks.Open(os.path.abspath(fileLocation))\n",
    "            xl.Application.Visible = True   \n",
    "\n",
    "    # Function to close workbook and delete excel.exe in task manager\n",
    "    def closeAndSaveWorkbook():\n",
    "        wb.Close(SaveChanges=1)\n",
    "        del  globals()['xl']\n",
    "        time.sleep(1)\n",
    "    \n",
    "    # Various workbooks\n",
    "    def fleet_mix(folder_path, report_date, refresh_cube):\n",
    "        workbook_name = \"Fleet Mix Tool.xlsm\"\n",
    "        openWorkbook(str(folder_path / \"Tools\" / workbook_name))\n",
    "        xl.Run(\"update_slicer\", report_date, refresh_cube)\n",
    "        xl.Run(\"openPPT\")\n",
    "        xl.Run(\"outputPPT\")\n",
    "        xl.Run(\"savePPT\", report_date)\n",
    "        closeAndSaveWorkbook()\n",
    "    \n",
    "    # Run functions\n",
    "    if sys.argv[2] == \"Fleet Mix Tool\":\n",
    "        fleet_mix(folder_path, report_date, refresh_cube)"
   ]
  },
  {
   "cell_type": "code",
   "execution_count": null,
   "metadata": {},
   "outputs": [],
   "source": []
  }
 ],
 "metadata": {
  "kernelspec": {
   "display_name": "Python 3",
   "language": "python",
   "name": "python3"
  },
  "language_info": {
   "codemirror_mode": {
    "name": "ipython",
    "version": 3
   },
   "file_extension": ".py",
   "mimetype": "text/x-python",
   "name": "python",
   "nbconvert_exporter": "python",
   "pygments_lexer": "ipython3",
   "version": "3.7.9"
  }
 },
 "nbformat": 4,
 "nbformat_minor": 4
}
