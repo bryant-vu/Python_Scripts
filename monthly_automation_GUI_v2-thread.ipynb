{
 "cells": [
  {
   "cell_type": "code",
   "execution_count": 3,
   "metadata": {
    "scrolled": true
   },
   "outputs": [
    {
     "name": "stderr",
     "output_type": "stream",
     "text": [
      "Exception in thread Thread-6:\n",
      "Traceback (most recent call last):\n",
      "  File \"C:\\ProgramData\\Anaconda3\\lib\\threading.py\", line 926, in _bootstrap_inner\n",
      "    self.run()\n",
      "  File \"C:\\ProgramData\\Anaconda3\\lib\\threading.py\", line 870, in run\n",
      "    self._target(*self._args, **self._kwargs)\n",
      "  File \"<ipython-input-3-e0d66cfe4fc8>\", line 22, in gif_thread\n",
      "    sg.PopupAnimated(gif_file_path, message='Just a sec...', background_color='#FFF', font=(\"Helvetica\",18), keep_on_top=True)\n",
      "  File \"C:\\ProgramData\\Anaconda3\\lib\\site-packages\\PySimpleGUI\\PySimpleGUI.py\", line 10681, in PopupAnimated\n",
      "    transparent_color=transparent_color).Finalize()\n",
      "  File \"C:\\ProgramData\\Anaconda3\\lib\\site-packages\\PySimpleGUI\\PySimpleGUI.py\", line 5561, in Finalize\n",
      "    self._Show(non_blocking=True)\n",
      "  File \"C:\\ProgramData\\Anaconda3\\lib\\site-packages\\PySimpleGUI\\PySimpleGUI.py\", line 5291, in _Show\n",
      "    StartupTK(self)\n",
      "  File \"C:\\ProgramData\\Anaconda3\\lib\\site-packages\\PySimpleGUI\\PySimpleGUI.py\", line 8842, in StartupTK\n",
      "    root = tk.Toplevel()\n",
      "  File \"C:\\ProgramData\\Anaconda3\\lib\\tkinter\\__init__.py\", line 2342, in __init__\n",
      "    BaseWidget.__init__(self, master, 'toplevel', cnf, {}, extra)\n",
      "  File \"C:\\ProgramData\\Anaconda3\\lib\\tkinter\\__init__.py\", line 2299, in __init__\n",
      "    (widgetName, self._w) + extra + self._options(cnf))\n",
      "RuntimeError: main thread is not in main loop\n",
      "\n"
     ]
    },
    {
     "ename": "TypeError",
     "evalue": "'NoneType' object is not subscriptable",
     "output_type": "error",
     "traceback": [
      "\u001b[1;31m---------------------------------------------------------------------------\u001b[0m",
      "\u001b[1;31mTypeError\u001b[0m                                 Traceback (most recent call last)",
      "\u001b[1;32m<ipython-input-3-e0d66cfe4fc8>\u001b[0m in \u001b[0;36m<module>\u001b[1;34m\u001b[0m\n\u001b[0;32m     28\u001b[0m     \u001b[1;32mfor\u001b[0m \u001b[0mi\u001b[0m\u001b[1;33m,\u001b[0m \u001b[0minput\u001b[0m \u001b[1;32min\u001b[0m \u001b[0menumerate\u001b[0m\u001b[1;33m(\u001b[0m\u001b[0minputs_list\u001b[0m\u001b[1;33m)\u001b[0m\u001b[1;33m:\u001b[0m\u001b[1;33m\u001b[0m\u001b[1;33m\u001b[0m\u001b[0m\n\u001b[0;32m     29\u001b[0m         \u001b[1;32mif\u001b[0m \u001b[0mi\u001b[0m \u001b[1;33m==\u001b[0m \u001b[1;36m0\u001b[0m\u001b[1;33m:\u001b[0m\u001b[1;33m\u001b[0m\u001b[1;33m\u001b[0m\u001b[0m\n\u001b[1;32m---> 30\u001b[1;33m             \u001b[0minputs_dict\u001b[0m\u001b[1;33m[\u001b[0m\u001b[0minput\u001b[0m\u001b[1;33m]\u001b[0m \u001b[1;33m=\u001b[0m \u001b[0mvalues\u001b[0m\u001b[1;33m[\u001b[0m\u001b[0mi\u001b[0m\u001b[1;33m]\u001b[0m\u001b[1;33m[\u001b[0m\u001b[0mi\u001b[0m\u001b[1;33m]\u001b[0m\u001b[1;33m\u001b[0m\u001b[1;33m\u001b[0m\u001b[0m\n\u001b[0m\u001b[0;32m     31\u001b[0m         \u001b[1;32melif\u001b[0m \u001b[0mvalues\u001b[0m\u001b[1;33m[\u001b[0m\u001b[0mi\u001b[0m\u001b[1;33m]\u001b[0m \u001b[1;33m==\u001b[0m \u001b[1;34m''\u001b[0m\u001b[1;33m:\u001b[0m\u001b[1;33m\u001b[0m\u001b[1;33m\u001b[0m\u001b[0m\n\u001b[0;32m     32\u001b[0m             \u001b[0minputs_dict\u001b[0m\u001b[1;33m[\u001b[0m\u001b[0minput\u001b[0m\u001b[1;33m]\u001b[0m \u001b[1;33m=\u001b[0m \u001b[1;34m\"0\"\u001b[0m\u001b[1;33m\u001b[0m\u001b[1;33m\u001b[0m\u001b[0m\n",
      "\u001b[1;31mTypeError\u001b[0m: 'NoneType' object is not subscriptable"
     ]
    }
   ],
   "source": [
    "import PySimpleGUI as sg\n",
    "import subprocess\n",
    "import threading\n",
    "\n",
    "py_file_path = \"C:\\\\Users\\\\bryant.vu\\\\Documents\\\\Python_Scripts\\\\Master_Script_v2.py\"\n",
    "gif_file_path= \"C:\\\\Users\\\\bryant.vu\\\\Desktop\\\\Bryant\\\\Wait_Gifs\\monkey.gif\"\n",
    "\n",
    "layout = [[sg.Text('Choose Report')],\n",
    "          [sg.Listbox(values=('Industry Review (all)', 'Kia_IP', 'Hyundai_IP', 'Mitsu_IP', 'Acura_IR', 'Honda_IR', 'Hyundai_IR', 'Kia_IR', 'Mazda_IR','Mitsu_IR'), size=(40, 5))],\n",
    "          [sg.Text('[Required] Enter report date (YYYYMM):'), sg.InputText()],\n",
    "          [sg.Text('Refresh Cube?'), sg.Combo(['Yes', 'No'], default_value = 'No')],\n",
    "          [sg.Text('Month-end or MTD?'), sg.Combo(['Month-end', 'MTD'], default_value = 'MTD')],\n",
    "          [sg.Text('[MTD] Enter share data through (YYYYMMDD):'), sg.InputText()],\n",
    "          [sg.Text('[MTD] Enter spend data through (YYYYMMDD):'), sg.InputText()],\n",
    "          [sg.Text('[MTD] Enter month-end forecast (no commas):'), sg.InputText()],\n",
    "          [sg.OK(), sg.Cancel()]]\n",
    "\n",
    "window = sg.Window('Create Decks', layout)\n",
    "\n",
    "def gif_thread(name):\n",
    "    while 1:\n",
    "        sg.PopupAnimated(gif_file_path, message='Just a sec...', background_color='#FFF', font=(\"Helvetica\",18), keep_on_top=True)  \n",
    "    \n",
    "while True:\n",
    "    event, values = window.Read()\n",
    "    inputs_list = ['report_name', 'report_date', 'refresh_cube', 'monthend_or_MTD', 'share_date', 'spend_date', 'forecast']\n",
    "    inputs_dict = {}\n",
    "    for i, input in enumerate(inputs_list):\n",
    "        if i == 0:\n",
    "            inputs_dict[input] = values[i][i]\n",
    "        elif values[i] == '':\n",
    "            inputs_dict[input] = \"0\"\n",
    "        else:\n",
    "            inputs_dict[input] = values[i]\n",
    "    if event is None or event == 'Exit' or event == 'Cancel':\n",
    "        break\n",
    "    else:\n",
    "        x = threading.Thread(target=gif_thread, args=(1,))\n",
    "        x.start()\n",
    "        subprocess.call(['python', py_file_path , inputs_dict['report_name'], inputs_dict['report_date'], inputs_dict['refresh_cube'], inputs_dict['monthend_or_MTD'], inputs_dict['share_date'], inputs_dict['spend_date'], inputs_dict['forecast']])\n",
    "        sg.PopupAnimated(image_source=None)\n",
    "        sg.Popup(\"Complete.\\nPlease go to Desktop -> Monthly Automation -> Output\", keep_on_top=True)\n",
    "window.Close()"
   ]
  },
  {
   "cell_type": "code",
   "execution_count": null,
   "metadata": {},
   "outputs": [],
   "source": []
  }
 ],
 "metadata": {
  "kernelspec": {
   "display_name": "Python 3",
   "language": "python",
   "name": "python3"
  },
  "language_info": {
   "codemirror_mode": {
    "name": "ipython",
    "version": 3
   },
   "file_extension": ".py",
   "mimetype": "text/x-python",
   "name": "python",
   "nbconvert_exporter": "python",
   "pygments_lexer": "ipython3",
   "version": "3.7.5"
  }
 },
 "nbformat": 4,
 "nbformat_minor": 2
}
