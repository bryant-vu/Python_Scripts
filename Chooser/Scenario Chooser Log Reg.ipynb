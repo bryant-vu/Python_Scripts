{
 "cells": [
  {
   "cell_type": "code",
   "execution_count": 36,
   "metadata": {},
   "outputs": [],
   "source": [
    "import pandas as pd\n",
    "import numpy as np\n",
    "import matplotlib.pyplot as plt\n",
    "import seaborn as sns\n",
    "from sklearn.linear_model import LogisticRegression\n",
    "from sklearn.model_selection import train_test_split\n",
    "\n",
    "# Display entire Scenario string in notebook\n",
    "pd.options.display.max_colwidth = 4000"
   ]
  },
  {
   "cell_type": "code",
   "execution_count": 37,
   "metadata": {},
   "outputs": [],
   "source": [
    "# Read data from Excel\n",
    "columns_from_excel = \"F,KC,KD,KE,KU,LE,NG\"\n",
    "column_headers = [\"scenarios\", \"cash_delta\", \"finance_delta\", \"lease_delta\", \"spend_delta\", \"lift_delta\",'target_scen']\n",
    "\n",
    "df = pd.read_excel(r'C:\\Users\\bryant.vu\\Documents\\Python_Scripts\\2019.11.04 - DSS - v4.7.2 - 7 block - Mitsu MY19 v4.xlsm', sheet_name=\"Calc\", names=column_headers, skiprows=499, nrows=500, usecols=columns_from_excel)"
   ]
  },
  {
   "cell_type": "code",
   "execution_count": 38,
   "metadata": {},
   "outputs": [],
   "source": [
    "# Remove (#) and spaces at beginning and end of Scenario\n",
    "df['scenarios'] = df['scenarios'].str.replace('\\\\(.\\\\)','', regex=True).str.lstrip().str.rstrip()"
   ]
  },
  {
   "cell_type": "code",
   "execution_count": 39,
   "metadata": {},
   "outputs": [],
   "source": [
    "# Create delta_spend columns in data\n",
    "# Note: need to add user input baseline (currently controlled in if index % 500 == x)\n",
    "delta_columns = [\"cash_delta\", \"finance_delta\", \"lease_delta\",\"spend_delta\",\"lift_delta\"]\n",
    "for x in delta_columns:\n",
    "    baseline = 0\n",
    "    df_delta = []\n",
    "    if x == 'lift_delta':\n",
    "        for index, row in df.iterrows():\n",
    "            if index % 500 == 11:\n",
    "                baseline = row[x]\n",
    "            try:\n",
    "                delta = row[x]/baseline - 1\n",
    "                df_delta.append(delta)\n",
    "            except:\n",
    "                delta = row[x] - baseline\n",
    "                df_delta.append(delta)\n",
    "    else:\n",
    "        for index, row in df.iterrows():\n",
    "            if index % 500 == 11:\n",
    "                baseline = row[x]\n",
    "            delta = row[x] - baseline\n",
    "            df_delta.append(delta)\n",
    "    df[x] = df_delta\n",
    "\n",
    "# Create no_of_moves column\n",
    "no_of_moves = 0\n",
    "df_no_of_moves = []\n",
    "\n",
    "for index, row in df.iterrows():\n",
    "    no_of_moves = str(row['scenarios']).count('\\n') + 1\n",
    "    df_no_of_moves.append(no_of_moves)\n",
    "    \n",
    "df['no_of_moves'] = df_no_of_moves\n",
    "\n",
    "# Drop N/As\n",
    "df = df.dropna()"
   ]
  },
  {
   "cell_type": "code",
   "execution_count": 40,
   "metadata": {},
   "outputs": [
    {
     "data": {
      "text/html": [
       "<div>\n",
       "<style scoped>\n",
       "    .dataframe tbody tr th:only-of-type {\n",
       "        vertical-align: middle;\n",
       "    }\n",
       "\n",
       "    .dataframe tbody tr th {\n",
       "        vertical-align: top;\n",
       "    }\n",
       "\n",
       "    .dataframe thead th {\n",
       "        text-align: right;\n",
       "    }\n",
       "</style>\n",
       "<table border=\"1\" class=\"dataframe\">\n",
       "  <thead>\n",
       "    <tr style=\"text-align: right;\">\n",
       "      <th></th>\n",
       "      <th>scenarios</th>\n",
       "      <th>cash_delta</th>\n",
       "      <th>finance_delta</th>\n",
       "      <th>lease_delta</th>\n",
       "      <th>spend_delta</th>\n",
       "      <th>lift_delta</th>\n",
       "      <th>target_scen</th>\n",
       "      <th>no_of_moves</th>\n",
       "    </tr>\n",
       "  </thead>\n",
       "  <tbody>\n",
       "    <tr>\n",
       "      <td>141</td>\n",
       "      <td>+$250 CC, \\n-$250 DC-C,</td>\n",
       "      <td>4.250000e+01</td>\n",
       "      <td>-0.000370</td>\n",
       "      <td>0.0</td>\n",
       "      <td>-3.120520</td>\n",
       "      <td>0.013485</td>\n",
       "      <td>0.0</td>\n",
       "      <td>2</td>\n",
       "    </tr>\n",
       "    <tr>\n",
       "      <td>139</td>\n",
       "      <td>+$750 CC, \\n+$750 APR, \\n0.0%/2.9%/3.9%,</td>\n",
       "      <td>7.500000e+02</td>\n",
       "      <td>846.848989</td>\n",
       "      <td>0.0</td>\n",
       "      <td>762.123610</td>\n",
       "      <td>0.284925</td>\n",
       "      <td>0.0</td>\n",
       "      <td>3</td>\n",
       "    </tr>\n",
       "    <tr>\n",
       "      <td>116</td>\n",
       "      <td>-$750 BC,</td>\n",
       "      <td>-7.500000e+02</td>\n",
       "      <td>-749.997293</td>\n",
       "      <td>-750.0</td>\n",
       "      <td>-762.210096</td>\n",
       "      <td>-0.228891</td>\n",
       "      <td>0.0</td>\n",
       "      <td>1</td>\n",
       "    </tr>\n",
       "    <tr>\n",
       "      <td>150</td>\n",
       "      <td>+$1,000 CC, \\n+$1,000 APR, \\n1.9%/4.9%/std,</td>\n",
       "      <td>1.000000e+03</td>\n",
       "      <td>1024.628423</td>\n",
       "      <td>0.0</td>\n",
       "      <td>947.899072</td>\n",
       "      <td>0.374099</td>\n",
       "      <td>0.0</td>\n",
       "      <td>3</td>\n",
       "    </tr>\n",
       "    <tr>\n",
       "      <td>38</td>\n",
       "      <td>+$1,080 Lease,</td>\n",
       "      <td>-4.547474e-13</td>\n",
       "      <td>-0.013590</td>\n",
       "      <td>1080.0</td>\n",
       "      <td>125.230883</td>\n",
       "      <td>0.014101</td>\n",
       "      <td>0.0</td>\n",
       "      <td>1</td>\n",
       "    </tr>\n",
       "  </tbody>\n",
       "</table>\n",
       "</div>"
      ],
      "text/plain": [
       "                                       scenarios    cash_delta  finance_delta  \\\n",
       "141                      +$250 CC, \\n-$250 DC-C,  4.250000e+01      -0.000370   \n",
       "139     +$750 CC, \\n+$750 APR, \\n0.0%/2.9%/3.9%,  7.500000e+02     846.848989   \n",
       "116                                    -$750 BC, -7.500000e+02    -749.997293   \n",
       "150  +$1,000 CC, \\n+$1,000 APR, \\n1.9%/4.9%/std,  1.000000e+03    1024.628423   \n",
       "38                                +$1,080 Lease, -4.547474e-13      -0.013590   \n",
       "\n",
       "     lease_delta  spend_delta  lift_delta  target_scen  no_of_moves  \n",
       "141          0.0    -3.120520    0.013485          0.0            2  \n",
       "139          0.0   762.123610    0.284925          0.0            3  \n",
       "116       -750.0  -762.210096   -0.228891          0.0            1  \n",
       "150          0.0   947.899072    0.374099          0.0            3  \n",
       "38        1080.0   125.230883    0.014101          0.0            1  "
      ]
     },
     "execution_count": 40,
     "metadata": {},
     "output_type": "execute_result"
    }
   ],
   "source": [
    "df.sample(5)"
   ]
  },
  {
   "cell_type": "code",
   "execution_count": 41,
   "metadata": {},
   "outputs": [],
   "source": [
    "# Test train split\n",
    "X_train, X_test, y_train, y_test = train_test_split(df.drop(['target_scen','scenarios'], axis=1), df['target_scen'])"
   ]
  },
  {
   "cell_type": "code",
   "execution_count": 42,
   "metadata": {
    "scrolled": true
   },
   "outputs": [
    {
     "name": "stderr",
     "output_type": "stream",
     "text": [
      "C:\\ProgramData\\Anaconda3\\lib\\site-packages\\sklearn\\linear_model\\logistic.py:432: FutureWarning: Default solver will be changed to 'lbfgs' in 0.22. Specify a solver to silence this warning.\n",
      "  FutureWarning)\n"
     ]
    },
    {
     "data": {
      "text/plain": [
       "LogisticRegression(C=1.0, class_weight=None, dual=False, fit_intercept=True,\n",
       "                   intercept_scaling=1, l1_ratio=None, max_iter=100,\n",
       "                   multi_class='warn', n_jobs=None, penalty='l2',\n",
       "                   random_state=None, solver='warn', tol=0.0001, verbose=0,\n",
       "                   warm_start=False)"
      ]
     },
     "execution_count": 42,
     "metadata": {},
     "output_type": "execute_result"
    }
   ],
   "source": [
    "# Train model\n",
    "LogReg = LogisticRegression()\n",
    "LogReg.fit(X_train, y_train)"
   ]
  },
  {
   "cell_type": "code",
   "execution_count": 45,
   "metadata": {
    "scrolled": true
   },
   "outputs": [
    {
     "data": {
      "text/plain": [
       "0.9444444444444444"
      ]
     },
     "execution_count": 45,
     "metadata": {},
     "output_type": "execute_result"
    }
   ],
   "source": [
    "#Score model\n",
    "LogReg.score(X_test, y_test)"
   ]
  },
  {
   "cell_type": "code",
   "execution_count": 46,
   "metadata": {
    "scrolled": true
   },
   "outputs": [
    {
     "data": {
      "text/plain": [
       "0.9444444444444444"
      ]
     },
     "execution_count": 46,
     "metadata": {},
     "output_type": "execute_result"
    }
   ],
   "source": [
    "prediction = (LogReg.predict(X_test) > 0.5).astype(int)\n",
    "np.sum(prediction == y_test) / len(y_test)"
   ]
  },
  {
   "cell_type": "markdown",
   "metadata": {
    "scrolled": false
   },
   "source": [
    "# Plot efficiency frontier above best fit line\n",
    "\n",
    "fig, ax = plt.subplots()\n",
    "p1 = sns.scatterplot(x=eff_frontier['spend_delta'], y=eff_frontier['lift_delta'], s=400)\n",
    "p2 = sns.regplot(x=eff_frontier['spend_delta'], y=eff_frontier['lift_delta'], ci=0)\n",
    "\n",
    "ax.axhline(y=0)\n",
    "ax.axvline(x=0)\n",
    "plt.xticks(fontsize=50)\n",
    "plt.yticks(fontsize=50)\n",
    "plt.xlabel('Spend', fontsize=50)\n",
    "plt.ylabel('Lift', fontsize=50)\n",
    "plt.rcParams[\"figure.figsize\"] = (100,50)\n",
    "\n",
    "# Label data points\n",
    "for row in range(0, eff_frontier.shape[0]):\n",
    "    p1.text(eff_frontier['spend_delta'].iloc[row]+2, eff_frontier['lift_delta'].iloc[row], eff_frontier['scenarios'].iloc[row], size=60)\n",
    "    \n",
    "    \n",
    "plt.show()"
   ]
  }
 ],
 "metadata": {
  "kernelspec": {
   "display_name": "Python 3",
   "language": "python",
   "name": "python3"
  },
  "language_info": {
   "codemirror_mode": {
    "name": "ipython",
    "version": 3
   },
   "file_extension": ".py",
   "mimetype": "text/x-python",
   "name": "python",
   "nbconvert_exporter": "python",
   "pygments_lexer": "ipython3",
   "version": "3.7.4"
  }
 },
 "nbformat": 4,
 "nbformat_minor": 2
}
